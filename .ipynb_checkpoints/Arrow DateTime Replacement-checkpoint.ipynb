{
 "cells": [
  {
   "cell_type": "code",
   "execution_count": 6,
   "metadata": {
    "ExecuteTime": {
     "end_time": "2019-12-31T05:19:09.100514Z",
     "start_time": "2019-12-31T05:19:09.097178Z"
    }
   },
   "outputs": [
    {
     "data": {
      "text/plain": [
       "datetime.date(2019, 12, 4)"
      ]
     },
     "execution_count": 6,
     "metadata": {},
     "output_type": "execute_result"
    }
   ],
   "source": [
    "#imports for datetime\n",
    "import datetime \n",
    "from datetime import date\n",
    "from datetime import time\n",
    "from datetime import timezone\n",
    "from datetime import tzinfo\n",
    "from datetime import timedelta\n",
    "import calendar\n",
    "import dateutil\n",
    "import pytz\n",
    "date.fromisoformat('2019-12-04')"
   ]
  },
  {
   "cell_type": "code",
   "execution_count": 5,
   "metadata": {
    "ExecuteTime": {
     "end_time": "2019-12-31T04:13:54.233203Z",
     "start_time": "2019-12-31T04:13:51.183177Z"
    }
   },
   "outputs": [
    {
     "name": "stdout",
     "output_type": "stream",
     "text": [
      "Collecting arrow\n",
      "\u001b[?25l  Downloading https://files.pythonhosted.org/packages/a1/39/a8e116084cf4160f0821ca9bb84ec312ccca84caa2b2bffb70d95d47f91f/arrow-0.15.4-py2.py3-none-any.whl (45kB)\n",
      "\u001b[K     |████████████████████████████████| 51kB 1.7MB/s eta 0:00:01\n",
      "\u001b[?25hRequirement already satisfied, skipping upgrade: python-dateutil in /anaconda3/lib/python3.7/site-packages (from arrow) (2.8.0)\n",
      "Requirement already satisfied, skipping upgrade: six>=1.5 in /anaconda3/lib/python3.7/site-packages (from python-dateutil->arrow) (1.12.0)\n",
      "Installing collected packages: arrow\n",
      "Successfully installed arrow-0.15.4\n",
      "Note: you may need to restart the kernel to use updated packages.\n"
     ]
    }
   ],
   "source": [
    "# installation\n",
    "\n",
    "pip install -U arrow\n"
   ]
  },
  {
   "cell_type": "code",
   "execution_count": 6,
   "metadata": {
    "ExecuteTime": {
     "end_time": "2019-12-31T05:14:14.955625Z",
     "start_time": "2019-12-31T05:14:14.934519Z"
    }
   },
   "outputs": [],
   "source": [
    "#import just arrow\n",
    "\n",
    "import arrow"
   ]
  },
  {
   "cell_type": "markdown",
   "metadata": {},
   "source": [
    "# Creation"
   ]
  },
  {
   "cell_type": "code",
   "execution_count": 129,
   "metadata": {
    "ExecuteTime": {
     "end_time": "2019-12-31T18:42:32.836926Z",
     "start_time": "2019-12-31T18:42:32.831652Z"
    }
   },
   "outputs": [
    {
     "data": {
      "text/plain": [
       "<Arrow [2019-10-07T05:00:11+08:00]>"
      ]
     },
     "execution_count": 129,
     "metadata": {},
     "output_type": "execute_result"
    }
   ],
   "source": [
    "# Make a datetime of October 7th 2019 at 05:00am with 11 secs with western timezone\n",
    "\n",
    "Date_1 = arrow.get('2019-10-07T05:00:11.000000+08:00')\n",
    "Date_1"
   ]
  },
  {
   "cell_type": "code",
   "execution_count": 63,
   "metadata": {
    "ExecuteTime": {
     "end_time": "2019-12-31T15:04:28.062525Z",
     "start_time": "2019-12-31T15:04:28.057276Z"
    }
   },
   "outputs": [
    {
     "data": {
      "text/plain": [
       "<Arrow [2017-05-07T09:00:11+00:00]>"
      ]
     },
     "execution_count": 63,
     "metadata": {},
     "output_type": "execute_result"
    }
   ],
   "source": [
    "# Create arrow using datetime format \n",
    "\n",
    "Date_2 = arrow.get(2017, 5, 7, 9, 0, 11)\n",
    "Date_2"
   ]
  },
  {
   "cell_type": "code",
   "execution_count": 130,
   "metadata": {
    "ExecuteTime": {
     "end_time": "2019-12-31T18:42:46.349855Z",
     "start_time": "2019-12-31T18:42:46.345313Z"
    }
   },
   "outputs": [
    {
     "data": {
      "text/plain": [
       "<Arrow [2019-12-31T13:42:46.346560-05:00]>"
      ]
     },
     "execution_count": 130,
     "metadata": {},
     "output_type": "execute_result"
    }
   ],
   "source": [
    "# Datetime and timezone at this moment\n",
    "\n",
    "now = arrow.now()\n",
    "now"
   ]
  },
  {
   "cell_type": "markdown",
   "metadata": {},
   "source": [
    "# Formating"
   ]
  },
  {
   "cell_type": "code",
   "execution_count": 131,
   "metadata": {
    "ExecuteTime": {
     "end_time": "2019-12-31T18:42:57.223045Z",
     "start_time": "2019-12-31T18:42:57.217965Z"
    }
   },
   "outputs": [
    {
     "data": {
      "text/plain": [
       "'2019-10-07 05:00:11+08:00'"
      ]
     },
     "execution_count": 131,
     "metadata": {},
     "output_type": "execute_result"
    }
   ],
   "source": [
    "# Showing the format of our arrow. and its alittle easier to read\n",
    "\n",
    "Date_1.format()"
   ]
  },
  {
   "cell_type": "code",
   "execution_count": null,
   "metadata": {},
   "outputs": [],
   "source": [
    "# Can change the format to display arrow \n",
    "\n",
    "Date_1.format('YYYY-MM-DD HH:mm:ss ZZ')"
   ]
  },
  {
   "cell_type": "markdown",
   "metadata": {},
   "source": [
    "# Properties"
   ]
  },
  {
   "cell_type": "code",
   "execution_count": 89,
   "metadata": {
    "ExecuteTime": {
     "end_time": "2019-12-31T15:20:43.141973Z",
     "start_time": "2019-12-31T15:20:43.137698Z"
    }
   },
   "outputs": [
    {
     "data": {
      "text/plain": [
       "'Tue Dec 31 00:26:18 2019'"
      ]
     },
     "execution_count": 89,
     "metadata": {},
     "output_type": "execute_result"
    }
   ],
   "source": [
    "# Display datetime with day of the week CLEAN\n",
    "now.ctime()"
   ]
  },
  {
   "cell_type": "code",
   "execution_count": 18,
   "metadata": {
    "ExecuteTime": {
     "end_time": "2019-12-31T05:32:12.127198Z",
     "start_time": "2019-12-31T05:32:12.122953Z"
    }
   },
   "outputs": [
    {
     "data": {
      "text/plain": [
       "1577769978"
      ]
     },
     "execution_count": 18,
     "metadata": {},
     "output_type": "execute_result"
    }
   ],
   "source": [
    "# Displays timestamp representation of the arrow\n",
    "\n",
    "now.timestamp"
   ]
  },
  {
   "cell_type": "code",
   "execution_count": 43,
   "metadata": {
    "ExecuteTime": {
     "end_time": "2019-12-31T06:15:57.865789Z",
     "start_time": "2019-12-31T06:15:57.861804Z"
    }
   },
   "outputs": [
    {
     "data": {
      "text/plain": [
       "datetime.datetime(2019, 12, 31, 0, 26, 18, 651863)"
      ]
     },
     "execution_count": 43,
     "metadata": {},
     "output_type": "execute_result"
    }
   ],
   "source": [
    "# Displays arrow in naive datetime\n",
    "\n",
    "now.naive"
   ]
  },
  {
   "cell_type": "markdown",
   "metadata": {},
   "source": [
    "# Shifting and Replacing"
   ]
  },
  {
   "cell_type": "code",
   "execution_count": 36,
   "metadata": {
    "ExecuteTime": {
     "end_time": "2019-12-31T05:58:09.180039Z",
     "start_time": "2019-12-31T05:58:09.175323Z"
    }
   },
   "outputs": [
    {
     "data": {
      "text/plain": [
       "<Arrow [2019-12-31T05:26:18.651863-05:00]>"
      ]
     },
     "execution_count": 36,
     "metadata": {},
     "output_type": "execute_result"
    }
   ],
   "source": [
    "# Shifting datetime 5 hours ahead\n",
    "\n",
    "now.shift(hours = 5)"
   ]
  },
  {
   "cell_type": "code",
   "execution_count": 132,
   "metadata": {
    "ExecuteTime": {
     "end_time": "2019-12-31T18:43:50.241359Z",
     "start_time": "2019-12-31T18:43:50.236342Z"
    }
   },
   "outputs": [
    {
     "data": {
      "text/plain": [
       "<Arrow [2023-08-27T18:43:21.346560-04:00]>"
      ]
     },
     "execution_count": 132,
     "metadata": {},
     "output_type": "execute_result"
    }
   ],
   "source": [
    "# Shifting datetime 3 years, 2 months, 180 days, 5 hours and 35 seconds ahead\n",
    "\n",
    "now.shift(years=3,months=2,days=180, hours = 5, seconds=35)"
   ]
  },
  {
   "cell_type": "code",
   "execution_count": 133,
   "metadata": {
    "ExecuteTime": {
     "end_time": "2019-12-31T18:44:00.708987Z",
     "start_time": "2019-12-31T18:44:00.703617Z"
    }
   },
   "outputs": [
    {
     "data": {
      "text/plain": [
       "<Arrow [2019-12-31T09:00:43.346560-05:00]>"
      ]
     },
     "execution_count": 133,
     "metadata": {},
     "output_type": "execute_result"
    }
   ],
   "source": [
    "# Replcing values of arrow\n",
    "\n",
    "now.replace(hour=9, minute=0, second=43)"
   ]
  },
  {
   "cell_type": "code",
   "execution_count": null,
   "metadata": {},
   "outputs": [],
   "source": [
    "# Replace the timezone without altering other attributes\n",
    "\n",
    "now.replace(tzinfo='US/Pacific')"
   ]
  },
  {
   "cell_type": "markdown",
   "metadata": {},
   "source": [
    "# Converting"
   ]
  },
  {
   "cell_type": "code",
   "execution_count": 111,
   "metadata": {
    "ExecuteTime": {
     "end_time": "2019-12-31T17:37:03.632661Z",
     "start_time": "2019-12-31T17:37:03.627399Z"
    }
   },
   "outputs": [
    {
     "data": {
      "text/plain": [
       "<Arrow [2019-12-30T21:26:18.651863-08:00]>"
      ]
     },
     "execution_count": 111,
     "metadata": {},
     "output_type": "execute_result"
    }
   ],
   "source": [
    "# Converts datetime to another timezone (Using Country/Standard Time Zone)\n",
    "\n",
    "now.to('US/Pacific')"
   ]
  },
  {
   "cell_type": "code",
   "execution_count": 122,
   "metadata": {
    "ExecuteTime": {
     "end_time": "2019-12-31T18:22:54.748824Z",
     "start_time": "2019-12-31T18:22:54.744102Z"
    }
   },
   "outputs": [
    {
     "data": {
      "text/plain": [
       "<Arrow [2019-12-31T00:26:18.651863-05:00]>"
      ]
     },
     "execution_count": 122,
     "metadata": {},
     "output_type": "execute_result"
    }
   ],
   "source": [
    "# Converts datetime to another timezone (Using Numeric Standard Time Zone)\n",
    "\n",
    "now.to('-05:00')"
   ]
  },
  {
   "cell_type": "markdown",
   "metadata": {},
   "source": [
    "# Humanizing "
   ]
  },
  {
   "cell_type": "code",
   "execution_count": 68,
   "metadata": {
    "ExecuteTime": {
     "end_time": "2019-12-31T15:06:59.174955Z",
     "start_time": "2019-12-31T15:06:59.168932Z"
    }
   },
   "outputs": [
    {
     "name": "stdout",
     "output_type": "stream",
     "text": [
      "2019-12-30T21:26:18.651863-05:00\n"
     ]
    },
    {
     "data": {
      "text/plain": [
       "'12 hours ago'"
      ]
     },
     "execution_count": 68,
     "metadata": {},
     "output_type": "execute_result"
    }
   ],
   "source": [
    "# Displays text difference from arrow; earlier datetime, and now \n",
    "\n",
    "past = now.shift(hours=-11)\n",
    "print(past)                     # printed just to show the time shift, not really needed\n",
    "past.humanize()"
   ]
  },
  {
   "cell_type": "code",
   "execution_count": 134,
   "metadata": {
    "ExecuteTime": {
     "end_time": "2019-12-31T18:44:44.954046Z",
     "start_time": "2019-12-31T18:44:44.948473Z"
    }
   },
   "outputs": [
    {
     "data": {
      "text/plain": [
       "'hace 16 horas'"
      ]
     },
     "execution_count": 134,
     "metadata": {},
     "output_type": "execute_result"
    }
   ],
   "source": [
    "# Displays text difference from arrow and now in Japanese ('language abbreviation'_'country abbreviation')\n",
    "\n",
    "# japanese = ja_JP\n",
    "# spanish = es_ES\n",
    "# english = en_US\n",
    "past.humanize(locale='ja_JP')"
   ]
  },
  {
   "cell_type": "code",
   "execution_count": 103,
   "metadata": {
    "ExecuteTime": {
     "end_time": "2019-12-31T17:06:34.493357Z",
     "start_time": "2019-12-31T17:06:34.489445Z"
    }
   },
   "outputs": [
    {
     "data": {
      "text/plain": [
       "'in 3 weeks'"
      ]
     },
     "execution_count": 103,
     "metadata": {},
     "output_type": "execute_result"
    }
   ],
   "source": [
    "# Display differences between 2 arrows \n",
    "\n",
    "future = now.shift(days=25)\n",
    "future.humanize(past)"
   ]
  },
  {
   "cell_type": "code",
   "execution_count": 88,
   "metadata": {
    "ExecuteTime": {
     "end_time": "2019-12-31T15:17:03.227151Z",
     "start_time": "2019-12-31T15:17:03.222613Z"
    }
   },
   "outputs": [
    {
     "data": {
      "text/plain": [
       "'36180 minutes'"
      ]
     },
     "execution_count": 88,
     "metadata": {},
     "output_type": "execute_result"
    }
   ],
   "source": [
    "# Display only distance differences between 2 arrows and in hours and minutes\n",
    "\n",
    "future.humanize(past, only_distance=True, granularity= \"minute\")"
   ]
  },
  {
   "cell_type": "code",
   "execution_count": 94,
   "metadata": {
    "ExecuteTime": {
     "end_time": "2019-12-31T15:26:41.548377Z",
     "start_time": "2019-12-31T15:26:41.542128Z"
    }
   },
   "outputs": [
    {
     "name": "stdout",
     "output_type": "stream",
     "text": [
      "2019-12-30T21:26:18.651863-05:00\n",
      "2020-01-25T00:26:18.651863-05:00\n"
     ]
    },
    {
     "data": {
      "text/plain": [
       "True"
      ]
     },
     "execution_count": 94,
     "metadata": {},
     "output_type": "execute_result"
    }
   ],
   "source": [
    "# Return boolean if arrow is between 2 datetimes\n",
    "\n",
    "print(past)                                # printed just to show the past arrow, not really needed\n",
    "print(future)                              # printed just to show the future arrow, not really needed\n",
    "arrow.get(arrow(2020, 1, 10, 12, 30, 27)).is_between(past, future)"
   ]
  }
 ],
 "metadata": {
  "kernelspec": {
   "display_name": "Python 3",
   "language": "python",
   "name": "python3"
  },
  "language_info": {
   "codemirror_mode": {
    "name": "ipython",
    "version": 3
   },
   "file_extension": ".py",
   "mimetype": "text/x-python",
   "name": "python",
   "nbconvert_exporter": "python",
   "pygments_lexer": "ipython3",
   "version": "3.7.4"
  },
  "varInspector": {
   "cols": {
    "lenName": 16,
    "lenType": 16,
    "lenVar": 40
   },
   "kernels_config": {
    "python": {
     "delete_cmd_postfix": "",
     "delete_cmd_prefix": "del ",
     "library": "var_list.py",
     "varRefreshCmd": "print(var_dic_list())"
    },
    "r": {
     "delete_cmd_postfix": ") ",
     "delete_cmd_prefix": "rm(",
     "library": "var_list.r",
     "varRefreshCmd": "cat(var_dic_list()) "
    }
   },
   "types_to_exclude": [
    "module",
    "function",
    "builtin_function_or_method",
    "instance",
    "_Feature"
   ],
   "window_display": false
  }
 },
 "nbformat": 4,
 "nbformat_minor": 2
}
